{
 "cells": [
  {
   "cell_type": "code",
   "execution_count": 3,
   "metadata": {},
   "outputs": [],
   "source": [
    "import tensorflow as tf"
   ]
  },
  {
   "cell_type": "markdown",
   "metadata": {},
   "source": [
    "## Creating Tensors\n",
    "\n",
    "- Tensors can be many different data types, for example a float32, int32, string and more\n",
    "- All tensors have a data type and shape\n",
    "- They are the main object passed around and manipulated in tf"
   ]
  },
  {
   "cell_type": "code",
   "execution_count": 5,
   "metadata": {},
   "outputs": [],
   "source": [
    "# basic format is tf.Variable(data, tf.datatype)\n",
    "\n",
    "string_tensor = tf.Variable('This is a string', tf.string)\n",
    "\n",
    "integer_tensor = tf.Variable(23, tf.int16)\n",
    "\n",
    "float_tensor = tf.Variable(2.3, tf.float64)\n",
    "\n",
    "#These are scalars\n",
    "\n",
    "#These are rank 0"
   ]
  },
  {
   "cell_type": "markdown",
   "metadata": {},
   "source": [
    "## Rank / Degree of Tensors\n",
    "\n",
    "- Number of dimensions invovled in tensor"
   ]
  },
  {
   "cell_type": "code",
   "execution_count": 9,
   "metadata": {},
   "outputs": [],
   "source": [
    "#Rank 1 tensor, when you have an array it is at least rank 1\n",
    "\n",
    "#This is because this array can store more than 1 value in 1 dimension  or think of as 1 list\n",
    "\n",
    "#i.e. it will always have 1 row but can store n columns\n",
    "\n",
    "rank1_tensor = tf.Variable(['Test'], tf.string)"
   ]
  },
  {
   "cell_type": "code",
   "execution_count": 10,
   "metadata": {},
   "outputs": [],
   "source": [
    "#Rank 2 tensor\n",
    "\n",
    "#This is rank 2 because it has a list within a list (this example has two lists in one list)\n",
    "\n",
    "#The rank of a tensor is the deepest level of a nested list\n",
    "\n",
    "rank2_tensor = tf.Variable([['test', 'one'], ['test', 'two']], tf.string)  #becomes a matrix"
   ]
  },
  {
   "cell_type": "code",
   "execution_count": 12,
   "metadata": {},
   "outputs": [
    {
     "data": {
      "text/plain": [
       "<tf.Tensor: shape=(), dtype=int32, numpy=2>"
      ]
     },
     "execution_count": 12,
     "metadata": {},
     "output_type": "execute_result"
    }
   ],
   "source": [
    "#To determine rank of a tensor, looked at numpy output\n",
    "\n",
    "tf.rank(rank2_tensor)"
   ]
  },
  {
   "cell_type": "markdown",
   "metadata": {},
   "source": [
    "## Shapes of Tensors\n",
    "\n",
    "- just amount of elements in each dimension, like an n x m matrix\n",
    "- Use .shape to find out shape of a tensor\n",
    "- NOTE: sometimes the shape may be unknown"
   ]
  },
  {
   "cell_type": "code",
   "execution_count": 16,
   "metadata": {},
   "outputs": [
    {
     "data": {
      "text/plain": [
       "TensorShape([2, 2])"
      ]
     },
     "execution_count": 16,
     "metadata": {},
     "output_type": "execute_result"
    }
   ],
   "source": [
    "rank2_tensor.shape\n",
    "\n",
    "#Will be [2, 2] since we have 2 lists and both lists have 2 elements inside"
   ]
  },
  {
   "cell_type": "markdown",
   "metadata": {},
   "source": [
    "## Changing Shape\n",
    "- Used a lot when working with TF\n",
    "- When change shape, you have the same number of elements but in a different shape, for example if you have 4 elements in total in a 2x2 matrix, can have a 1x4 matrix instead\n",
    "- tf.reshape"
   ]
  },
  {
   "cell_type": "code",
   "execution_count": 23,
   "metadata": {},
   "outputs": [],
   "source": [
    "tensor1 = tf.ones([1, 2, 3])   #the ones() function created a shape [1, 2, 3] tensor with ones in\n",
    "# an array with 1 list, that contains 2 lists each with 3 elements\n",
    "\n",
    "tensor2 = tf.reshape(tensor1, [3, 2 , 1])\n",
    "#an array with 3 lists that each have 2 lists with just 1 element inside\n",
    "\n",
    "tensor3 = tf.reshape(tensor2, [3, -1])  #using -1 tells tensor to calculate the size of the dimenions in that place, so will reshape tensor to [3, 2]\n",
    "# so since we have 6 elements, and we specified 3 lists, tensor will calulate that we need 2 elements in each of the three lists\n",
    "\n",
    "#all three of these tensors have 6 elements"
   ]
  },
  {
   "cell_type": "code",
   "execution_count": 19,
   "metadata": {},
   "outputs": [
    {
     "data": {
      "text/plain": [
       "<tf.Tensor: shape=(1, 2, 3), dtype=float32, numpy=\n",
       "array([[[1., 1., 1.],\n",
       "        [1., 1., 1.]]], dtype=float32)>"
      ]
     },
     "execution_count": 19,
     "metadata": {},
     "output_type": "execute_result"
    }
   ],
   "source": [
    "tensor1"
   ]
  },
  {
   "cell_type": "code",
   "execution_count": 20,
   "metadata": {},
   "outputs": [
    {
     "data": {
      "text/plain": [
       "<tf.Tensor: shape=(3, 2, 1), dtype=float32, numpy=\n",
       "array([[[1.],\n",
       "        [1.]],\n",
       "\n",
       "       [[1.],\n",
       "        [1.]],\n",
       "\n",
       "       [[1.],\n",
       "        [1.]]], dtype=float32)>"
      ]
     },
     "execution_count": 20,
     "metadata": {},
     "output_type": "execute_result"
    }
   ],
   "source": [
    "tensor2"
   ]
  },
  {
   "cell_type": "code",
   "execution_count": 21,
   "metadata": {},
   "outputs": [
    {
     "data": {
      "text/plain": [
       "<tf.Tensor: shape=(3, 2), dtype=float32, numpy=\n",
       "array([[1., 1.],\n",
       "       [1., 1.],\n",
       "       [1., 1.]], dtype=float32)>"
      ]
     },
     "execution_count": 21,
     "metadata": {},
     "output_type": "execute_result"
    }
   ],
   "source": [
    "tensor3"
   ]
  },
  {
   "cell_type": "markdown",
   "metadata": {},
   "source": [
    "## Types of Tensors\n",
    "\n",
    "Most common types of tensors include:\n",
    "- Variable\n",
    "- Constant     (Immutable)\n",
    "- Placeholder  (Immutable)\n",
    "- SpareTensor  (Immutable)\n",
    "\n",
    "Immutable = value of tensor cannot change during execution\n",
    "\n",
    "Therefore, only use variable tensor when you think you want to change the value of the tensor"
   ]
  },
  {
   "cell_type": "markdown",
   "metadata": {},
   "source": [
    "## Evaluating tensors\n",
    "\n",
    "- This is getting its value\n",
    "- To evaluate a tensor you need to create a session\n",
    "\n",
    "There are many ways to do this but simplest is as below"
   ]
  },
  {
   "cell_type": "code",
   "execution_count": 24,
   "metadata": {},
   "outputs": [
    {
     "data": {
      "text/plain": [
       "'\\n\\nwith tf.Session() as sess:  #creates session with default graph\\n    tensor.eval()       #swap tensor with the name of your own tensor\\n\\n'"
      ]
     },
     "execution_count": 24,
     "metadata": {},
     "output_type": "execute_result"
    }
   ],
   "source": [
    "'''\n",
    "\n",
    "with tf.Session() as sess:  #creates session with default graph\n",
    "    tensor.eval()       #swap tensor with the name of your own tensor\n",
    "\n",
    "'''"
   ]
  },
  {
   "cell_type": "code",
   "execution_count": null,
   "metadata": {},
   "outputs": [],
   "source": []
  }
 ],
 "metadata": {
  "kernelspec": {
   "display_name": "Python 3",
   "language": "python",
   "name": "python3"
  },
  "language_info": {
   "codemirror_mode": {
    "name": "ipython",
    "version": 3
   },
   "file_extension": ".py",
   "mimetype": "text/x-python",
   "name": "python",
   "nbconvert_exporter": "python",
   "pygments_lexer": "ipython3",
   "version": "3.8.10"
  }
 },
 "nbformat": 4,
 "nbformat_minor": 2
}
